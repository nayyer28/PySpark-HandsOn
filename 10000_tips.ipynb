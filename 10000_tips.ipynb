{
 "cells": [
  {
   "cell_type": "code",
   "execution_count": 3,
   "metadata": {},
   "outputs": [
    {
     "name": "stdout",
     "output_type": "stream",
     "text": [
      "Defaulting to user installation because normal site-packages is not writeable\n",
      "Collecting faker\n",
      "  Obtaining dependency information for faker from https://files.pythonhosted.org/packages/30/50/cd430ebe6ec486ac5e13c27ae9410a0d0c510b4968a6a7a84878703d48f4/Faker-19.6.2-py3-none-any.whl.metadata\n",
      "  Downloading Faker-19.6.2-py3-none-any.whl.metadata (15 kB)\n",
      "Requirement already satisfied: python-dateutil>=2.4 in /usr/lib/python3.11/site-packages (from faker) (2.8.2)\n",
      "Requirement already satisfied: six>=1.5 in /usr/lib/python3.11/site-packages (from python-dateutil>=2.4->faker) (1.16.0)\n",
      "Downloading Faker-19.6.2-py3-none-any.whl (1.7 MB)\n",
      "\u001b[2K   \u001b[90m━━━━━━━━━━━━━━━━━━━━━━━━━━━━━━━━━━━━━━━━\u001b[0m \u001b[32m1.7/1.7 MB\u001b[0m \u001b[31m2.5 MB/s\u001b[0m eta \u001b[36m0:00:00\u001b[0ma \u001b[36m0:00:01\u001b[0m0m\n",
      "\u001b[?25hInstalling collected packages: faker\n",
      "Successfully installed faker-19.6.2\n"
     ]
    }
   ],
   "source": [
    "!pip install faker"
   ]
  },
  {
   "cell_type": "code",
   "execution_count": 4,
   "metadata": {},
   "outputs": [],
   "source": [
    "import csv\n",
    "import random\n",
    "from faker import Faker\n",
    "\n",
    "# Create a Faker instance for generating fake data\n",
    "fake = Faker()\n",
    "\n",
    "# Define the possible values for each column\n",
    "gender_waiter = ['male', 'female']\n",
    "gender_customer = ['male', 'female']\n",
    "smoker = ['yes', 'no']\n",
    "time = ['day', 'evening']\n",
    "\n",
    "# Define the output CSV file name\n",
    "output_file = 'restaurant_tips_data.csv'\n",
    "\n",
    "# Define the number of rows\n",
    "num_rows = 10000\n",
    "\n",
    "# Open the CSV file for writing\n",
    "with open(output_file, mode='w', newline='') as file:\n",
    "    writer = csv.writer(file)\n",
    "    \n",
    "    # Write the header row\n",
    "    writer.writerow(['total_bill', 'tip', 'gender_waiter', 'gender_customer', 'smoker', 'time'])\n",
    "    \n",
    "    # Generate and write random data for each row\n",
    "    for _ in range(num_rows):\n",
    "        total_bill = round(random.uniform(10, 50), 2)  # Random total bill between $10 and $50\n",
    "        tip = round(random.uniform(0, 10), 2)        # Random tip between $1 and $10\n",
    "        waiter_gender = random.choice(gender_waiter)\n",
    "        customer_gender = random.choice(gender_customer)\n",
    "        customer_smoker = random.choice(smoker)\n",
    "        dining_time = random.choice(time)\n",
    "        \n",
    "        # Write the data to the CSV file\n",
    "        writer.writerow([total_bill, tip, waiter_gender, customer_gender, customer_smoker, dining_time])"
   ]
  },
  {
   "cell_type": "code",
   "execution_count": null,
   "metadata": {},
   "outputs": [],
   "source": [
    "print(f\"CSV file '{output_file}' with {num_rows} rows has been generated.\")"
   ]
  }
 ],
 "metadata": {
  "kernelspec": {
   "display_name": "Python 3",
   "language": "python",
   "name": "python3"
  },
  "language_info": {
   "codemirror_mode": {
    "name": "ipython",
    "version": 3
   },
   "file_extension": ".py",
   "mimetype": "text/x-python",
   "name": "python",
   "nbconvert_exporter": "python",
   "pygments_lexer": "ipython3",
   "version": "3.11.5"
  },
  "orig_nbformat": 4
 },
 "nbformat": 4,
 "nbformat_minor": 2
}
